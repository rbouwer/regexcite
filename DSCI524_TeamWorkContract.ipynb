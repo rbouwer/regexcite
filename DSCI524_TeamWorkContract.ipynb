{
 "cells": [
  {
   "cell_type": "markdown",
   "id": "ffb101ae-507e-4d04-82a5-c6522ec92705",
   "metadata": {},
   "source": [
    "# Team Work Contract\n",
    "## DSCI 524 Group 2\n",
    "---\n",
    "### Rachel Bouwer, Arturo Boquin, Iris Luo, Ben Chen\n",
    "#### Last Updated January 8, 2024"
   ]
  },
  {
   "cell_type": "markdown",
   "id": "434ce270-6413-4dea-a68a-95960b8375b9",
   "metadata": {},
   "source": [
    "## Expectations\n",
    "\n",
    "- Time expected: 4 hours per week (subject to change based on Monday meeting)\n",
    "- Submissions should meet the required criteria\n",
    "- Meet 2x a week:\n",
    " 1. During lab time (Monday 2-4 pm)\n",
    " 2. Fridays 2 pm (depending on availability)\n",
    "    - Individual tasks ~80% completed (subject to change based on Monday meeting)\n",
    "    - See GitHub issues for discussion\n",
    "    - Finishing touches to be done Friday night following second meeting (discussion on whether work is to be done on Saturday based on state of work on Friday)\n",
    "- Rotate responsibility of Milestone submission\n",
    "\n",
    "### Communication\n",
    "\n",
    "- Use Slack channel for urgent/\"conversation\"-like questions and clarifications\n",
    "- Use GitHub Issues to document \"Week\" meeting minutes (created during lab time on Monday)\n",
    "\n",
    "### Code Quality\n",
    "\n",
    "- All functions must have at least 2 tests\n",
    "- Code must be formatted properly based on PEP8 standards\n",
    " - Correct spacing\n",
    " - Docstrings\n",
    "\n",
    "### Workflow steps\n",
    "\n",
    "1. Create a GitHub Issue\n",
    "   - If *Meeting Notes*, move to 'Done' column of Kanban board\n",
    "   - Otherwise, move *task* to 'ToDo' column of Kanban board \n",
    "3. Under development in GitHub, create a new branch for the issue\n",
    "   - Move *task* to 'In Progress' column of Kanban board \n",
    "5. Checkout and work on the branch locally\n",
    "6. Push the branch to GitHub\n",
    "7. Create a pull request\n",
    "    - Move *task* to 'Pending Approval' column of Kanban board \n",
    "9. AT LEAST one approve before merging\n",
    "10. Merge branch to main\n",
    "    - Move *task* to 'Done' column of Kanban board \n",
    "\n",
    "## Breach of Contract\n",
    "\n",
    "1. **First Breach**: Warning (documented on Slack)\n",
    "2. **Second Breach**: Discuss with the whole team\n",
    "3. **Third Breach**: Escalate to instructor/ TA"
   ]
  }
 ],
 "metadata": {
  "kernelspec": {
   "display_name": "Python 3 (ipykernel)",
   "language": "python",
   "name": "python3"
  },
  "language_info": {
   "codemirror_mode": {
    "name": "ipython",
    "version": 3
   },
   "file_extension": ".py",
   "mimetype": "text/x-python",
   "name": "python",
   "nbconvert_exporter": "python",
   "pygments_lexer": "ipython3",
   "version": "3.11.4"
  }
 },
 "nbformat": 4,
 "nbformat_minor": 5
}
